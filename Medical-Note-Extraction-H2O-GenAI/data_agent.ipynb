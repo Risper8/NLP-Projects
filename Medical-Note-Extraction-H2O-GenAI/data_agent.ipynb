{
  "nbformat": 4,
  "nbformat_minor": 0,
  "metadata": {
    "colab": {
      "provenance": [],
      "gpuType": "T4"
    },
    "kernelspec": {
      "name": "python3",
      "display_name": "Python 3"
    },
    "language_info": {
      "name": "python"
    },
    "accelerator": "GPU"
  },
  "cells": [
    {
      "cell_type": "code",
      "source": [
        "!pip install -U -q \"google-generativeai>=0.7.2\""
      ],
      "metadata": {
        "id": "58Mcb_8Lvjsu"
      },
      "execution_count": null,
      "outputs": []
    },
    {
      "cell_type": "code",
      "execution_count": null,
      "metadata": {
        "colab": {
          "base_uri": "https://localhost:8080/"
        },
        "id": "OL0dI7qatp2D",
        "outputId": "158f1eca-34c0-41a4-93cd-c09cf5944237"
      },
      "outputs": [
        {
          "output_type": "stream",
          "name": "stdout",
          "text": [
            "Mounted at /content/drive\n"
          ]
        }
      ],
      "source": [
        "from google.colab import drive\n",
        "drive.mount('/content/drive')"
      ]
    },
    {
      "cell_type": "code",
      "source": [
        "import google.generativeai as genai\n",
        "import vertexai\n",
        "import pandas as pd\n",
        "import json"
      ],
      "metadata": {
        "id": "AzhFU6bkwCDW"
      },
      "execution_count": null,
      "outputs": []
    },
    {
      "cell_type": "code",
      "source": [
        "genai.configure(api_key=\"API_KEY\")"
      ],
      "metadata": {
        "id": "GUviBF69v00X"
      },
      "execution_count": null,
      "outputs": []
    },
    {
      "cell_type": "code",
      "source": [
        "PROJECT_ID = \"[med-extractor]\"\n",
        "LOCATION = \"africa-south1\"\n",
        "\n",
        "\n",
        "vertexai.init(project=PROJECT_ID, location=LOCATION)"
      ],
      "metadata": {
        "id": "HjFh5olYv3fu"
      },
      "execution_count": null,
      "outputs": []
    },
    {
      "cell_type": "code",
      "source": [
        "system_instructions = \"\"\"\n",
        "You are an intelligent and highly capable agent tasked with assisting medical practitioners in standardizing and structuring medical notes into JSON format.\n",
        "\n",
        "Your role is to process unstructured medical notes provided in a list and convert each entry into a well-structured JSON object.\n",
        "\n",
        "The JSON output must **exactly match the structure and format** described in the example below.Ensure each entry starts on a new line, with no unnecessary indentation, incorrect line breaks, or formatting deviations\n",
        "\n",
        "### Instructions:\n",
        "1. **Input Format**: The medical notes will be provided as a list of text entries. Each entry contains details about a patient's medical visit.\n",
        "2. **Output Format**: Convert each entry into a structured JSON object. Ensure the output adheres to JSON standards with proper nesting, key-value pairs, and an organized structure.\n",
        "3. **Key Sections**: Each JSON object should include the following:\n",
        "    - **patient_info**: Contains the patient's age and gender.\n",
        "    - **visit_motivation**: Describes the reason for the visit.\n",
        "    - **symptoms**: A list of symptoms reported by the patient.\n",
        "    - **vital_signs**: Includes measurements such as blood pressure, heart rate, respiratory rate, and other relevant vitals.\n",
        "4. **Error Handling**: If any required information is missing, infer the structure but leave the value as `null` or an empty array where appropriate.\n",
        "5. **Consistency**: Ensure the keys and structure are consistent across all JSON objects.\n",
        "\n",
        "### Example:\n",
        "**Input**:\n",
        "medical_notes = [\n",
        "  '\"patient_info\": \"age\": 45, \"gender\": \"Female\", \"visit_motivation\": \"Hypertension (High Blood Pressure)\", \"symptoms\": [\"headache\", \"difficulty_breathing\", \"chest_pain\", \"dizziness\", \"sneezing\", \"blurred_vision\", \"wheezing\", \"pale_skin\"], \"vital_signs\": \"blood_pressure\": \"systolic\": \"value\": 136, \"unit\": \"mmHg\", \"diastolic\": \"value\": 115, \"unit\": \"mmHg\", \"heart_rate\": \"value\": 88, \"unit\": \"bpm\", \"respiratory_rate\": \"value\": 16, \"unit\": \"breaths/min\", \"cholesterol_level\": \"value\": 187.5, \"unit\": \"mg/dL\"',\n",
        "  '\"patient_info\": \"age\": 18, \"gender\": \"Female\", \"visit_motivation\": \"Common Cold\", \"symptoms\": [\"cough\", \"fatigue\", \"runny_nose\", \"rash\", \"sneezing\", \"blurred_vision\", \"wheezing\", \"swollen_lymph_nodes\", \"anxiety\"], \"vital_signs\": \"respiratory_rate\": \"value\": 19, \"unit\": \"breaths/min\", \"oxygen_saturation\": \"value\": 98.0, \"unit\": \"%\"'\n",
        "]\n",
        "\n",
        "**Output**:\n",
        "[\n",
        "  {\"patient_info\": {\"age\": 45, \"gender\": \"Female\"}, \"visit_motivation\": \"Hypertension (High Blood Pressure)\", \"symptoms\": [\"headache\", \"difficulty_breathing\", \"chest_pain\", \"dizziness\", \"sneezing\", \"blurred_vision\", \"wheezing\", \"pale_skin\"], \"vital_signs\": {\"blood_pressure\": {\"systolic\": {\"value\": 136, \"unit\": \"mmHg\"}, \"diastolic\": {\"value\": 115, \"unit\": \"mmHg\"}}, \"heart_rate\": {\"value\": 88, \"unit\": \"bpm\"}, \"respiratory_rate\": {\"value\": 16, \"unit\": \"breaths/min\"}, \"cholesterol_level\": {\"value\": 187.5, \"unit\": \"mg/dL\"}}},\n",
        "  {\"patient_info\": {\"age\": 18, \"gender\": \"Female\"}, \"visit_motivation\": \"Common Cold\", \"symptoms\": [\"cough\", \"fatigue\", \"runny_nose\", \"rash\", \"sneezing\", \"blurred_vision\", \"wheezing\", \"swollen_lymph_nodes\", \"anxiety\"], \"vital_signs\": {\"respiratory_rate\": {\"value\": 19, \"unit\": \"breaths/min\"}, \"oxygen_saturation\": {\"value\": 98.0, \"unit\": \"%\"}}}\n",
        "]\n",
        "\n",
        "### Performance Goals:\n",
        "- **Accuracy**: Ensure the extracted information matches the input notes precisely.\n",
        "- **Efficiency**: Handle long and complex notes effectively while maintaining performance.\n",
        "\"\"\"\n"
      ],
      "metadata": {
        "id": "GvwnUGfxwX2q"
      },
      "execution_count": null,
      "outputs": []
    },
    {
      "cell_type": "code",
      "source": [
        "generation_config = {\n",
        "    \"max_output_tokens\": 6000,\n",
        "    \"temperature\": 0.2,\n",
        "    \"top_k\": 85,\n",
        "    \"top_p\": 0.95,\n",
        "}"
      ],
      "metadata": {
        "id": "T_TohlqNwbjl"
      },
      "execution_count": null,
      "outputs": []
    },
    {
      "cell_type": "code",
      "source": [
        "model_name = \"gemini-1.5-pro\"\n",
        "\n",
        "model = genai.GenerativeModel(\n",
        "    model_name=model_name,\n",
        "    generation_config= generation_config,\n",
        "    # safety_settings= self.safety_settings,\n",
        "    # tools=tools,\n",
        "    system_instruction=system_instructions\n",
        "\n",
        "    )\n"
      ],
      "metadata": {
        "id": "I3quOLE2uzhJ"
      },
      "execution_count": null,
      "outputs": []
    },
    {
      "cell_type": "code",
      "source": [
        "chat = model.start_chat(\n",
        "      enable_automatic_function_calling=True\n",
        "      )"
      ],
      "metadata": {
        "id": "5MPnBKeoyYBz"
      },
      "execution_count": null,
      "outputs": []
    },
    {
      "cell_type": "code",
      "source": [
        "# prompt = ['\"patient_info\": \"age\": 33, \"gender\": \"Male\", \"visit_motivation\": \"Allergies\", \"symptoms\": [\"cough\", \"sore_throat\", \"nausea\", \"runny_nose\", \"rash\", \"sneezing\", \"itchy_eyes\", \"loss_of_taste_smell\", \"weight_loss\"], \"vital_signs\": \"blood_pressure\": \"systolic\": \"value\": 104, \"unit\": \"mmHg\", \"diastolic\": \"value\": 71, \"unit\": \"mmHg\", \"temperature\": \"value\": 37.3, \"unit\": \"u00b0C\", \"respiratory_rate\": \"value\": 16, \"unit\": \"breaths/min\"'\n",
        "# '\"patient_info\": \"age\": 33, \"gender\": \"Male\", \"visit_motivation\": \"Allergies\", \"symptoms\": [\"cough\", \"sore_throat\", \"nausea\", \"runny_nose\", \"rash\", \"sneezing\", \"itchy_eyes\", \"loss_of_taste_smell\", \"weight_loss\"], \"vital_signs\": \"blood_pressure\": \"systolic\": \"value\": 104, \"unit\": \"mmHg\", \"diastolic\": \"value\": 71, \"unit\": \"mmHg\", \"temperature\": \"value\": 37.3, \"unit\": \"u00b0C\", \"respiratory_rate\": \"value\": 16, \"unit\": \"breaths/min\"']"
      ],
      "metadata": {
        "id": "rvjpFTy91S7u"
      },
      "execution_count": null,
      "outputs": []
    },
    {
      "cell_type": "code",
      "source": [
        "data = pd.read_csv(\"/content/drive/MyDrive/Med_extraction/test_submission1 (3).csv\")"
      ],
      "metadata": {
        "id": "nnSQmKbBKMfb"
      },
      "execution_count": null,
      "outputs": []
    },
    {
      "cell_type": "code",
      "source": [
        "data.head(2)"
      ],
      "metadata": {
        "colab": {
          "base_uri": "https://localhost:8080/",
          "height": 112
        },
        "id": "y1EJO4FSKj9o",
        "outputId": "299bdca5-794b-4db6-b204-9de0aa75a23f"
      },
      "execution_count": null,
      "outputs": [
        {
          "output_type": "execute_result",
          "data": {
            "text/plain": [
              "      ID                                               json\n",
              "0  10823  \"patient_info\": \"age\": 48, \"gender\": \"Male\", \"...\n",
              "1  10824  \"patient_info\": \"age\": 53, \"gender\": \"Male\", \"..."
            ],
            "text/html": [
              "\n",
              "  <div id=\"df-43956c60-216e-42bc-a2c8-f21ae853066d\" class=\"colab-df-container\">\n",
              "    <div>\n",
              "<style scoped>\n",
              "    .dataframe tbody tr th:only-of-type {\n",
              "        vertical-align: middle;\n",
              "    }\n",
              "\n",
              "    .dataframe tbody tr th {\n",
              "        vertical-align: top;\n",
              "    }\n",
              "\n",
              "    .dataframe thead th {\n",
              "        text-align: right;\n",
              "    }\n",
              "</style>\n",
              "<table border=\"1\" class=\"dataframe\">\n",
              "  <thead>\n",
              "    <tr style=\"text-align: right;\">\n",
              "      <th></th>\n",
              "      <th>ID</th>\n",
              "      <th>json</th>\n",
              "    </tr>\n",
              "  </thead>\n",
              "  <tbody>\n",
              "    <tr>\n",
              "      <th>0</th>\n",
              "      <td>10823</td>\n",
              "      <td>\"patient_info\": \"age\": 48, \"gender\": \"Male\", \"...</td>\n",
              "    </tr>\n",
              "    <tr>\n",
              "      <th>1</th>\n",
              "      <td>10824</td>\n",
              "      <td>\"patient_info\": \"age\": 53, \"gender\": \"Male\", \"...</td>\n",
              "    </tr>\n",
              "  </tbody>\n",
              "</table>\n",
              "</div>\n",
              "    <div class=\"colab-df-buttons\">\n",
              "\n",
              "  <div class=\"colab-df-container\">\n",
              "    <button class=\"colab-df-convert\" onclick=\"convertToInteractive('df-43956c60-216e-42bc-a2c8-f21ae853066d')\"\n",
              "            title=\"Convert this dataframe to an interactive table.\"\n",
              "            style=\"display:none;\">\n",
              "\n",
              "  <svg xmlns=\"http://www.w3.org/2000/svg\" height=\"24px\" viewBox=\"0 -960 960 960\">\n",
              "    <path d=\"M120-120v-720h720v720H120Zm60-500h600v-160H180v160Zm220 220h160v-160H400v160Zm0 220h160v-160H400v160ZM180-400h160v-160H180v160Zm440 0h160v-160H620v160ZM180-180h160v-160H180v160Zm440 0h160v-160H620v160Z\"/>\n",
              "  </svg>\n",
              "    </button>\n",
              "\n",
              "  <style>\n",
              "    .colab-df-container {\n",
              "      display:flex;\n",
              "      gap: 12px;\n",
              "    }\n",
              "\n",
              "    .colab-df-convert {\n",
              "      background-color: #E8F0FE;\n",
              "      border: none;\n",
              "      border-radius: 50%;\n",
              "      cursor: pointer;\n",
              "      display: none;\n",
              "      fill: #1967D2;\n",
              "      height: 32px;\n",
              "      padding: 0 0 0 0;\n",
              "      width: 32px;\n",
              "    }\n",
              "\n",
              "    .colab-df-convert:hover {\n",
              "      background-color: #E2EBFA;\n",
              "      box-shadow: 0px 1px 2px rgba(60, 64, 67, 0.3), 0px 1px 3px 1px rgba(60, 64, 67, 0.15);\n",
              "      fill: #174EA6;\n",
              "    }\n",
              "\n",
              "    .colab-df-buttons div {\n",
              "      margin-bottom: 4px;\n",
              "    }\n",
              "\n",
              "    [theme=dark] .colab-df-convert {\n",
              "      background-color: #3B4455;\n",
              "      fill: #D2E3FC;\n",
              "    }\n",
              "\n",
              "    [theme=dark] .colab-df-convert:hover {\n",
              "      background-color: #434B5C;\n",
              "      box-shadow: 0px 1px 3px 1px rgba(0, 0, 0, 0.15);\n",
              "      filter: drop-shadow(0px 1px 2px rgba(0, 0, 0, 0.3));\n",
              "      fill: #FFFFFF;\n",
              "    }\n",
              "  </style>\n",
              "\n",
              "    <script>\n",
              "      const buttonEl =\n",
              "        document.querySelector('#df-43956c60-216e-42bc-a2c8-f21ae853066d button.colab-df-convert');\n",
              "      buttonEl.style.display =\n",
              "        google.colab.kernel.accessAllowed ? 'block' : 'none';\n",
              "\n",
              "      async function convertToInteractive(key) {\n",
              "        const element = document.querySelector('#df-43956c60-216e-42bc-a2c8-f21ae853066d');\n",
              "        const dataTable =\n",
              "          await google.colab.kernel.invokeFunction('convertToInteractive',\n",
              "                                                    [key], {});\n",
              "        if (!dataTable) return;\n",
              "\n",
              "        const docLinkHtml = 'Like what you see? Visit the ' +\n",
              "          '<a target=\"_blank\" href=https://colab.research.google.com/notebooks/data_table.ipynb>data table notebook</a>'\n",
              "          + ' to learn more about interactive tables.';\n",
              "        element.innerHTML = '';\n",
              "        dataTable['output_type'] = 'display_data';\n",
              "        await google.colab.output.renderOutput(dataTable, element);\n",
              "        const docLink = document.createElement('div');\n",
              "        docLink.innerHTML = docLinkHtml;\n",
              "        element.appendChild(docLink);\n",
              "      }\n",
              "    </script>\n",
              "  </div>\n",
              "\n",
              "\n",
              "<div id=\"df-957c5226-0f4c-459f-a09d-3f465e8bb437\">\n",
              "  <button class=\"colab-df-quickchart\" onclick=\"quickchart('df-957c5226-0f4c-459f-a09d-3f465e8bb437')\"\n",
              "            title=\"Suggest charts\"\n",
              "            style=\"display:none;\">\n",
              "\n",
              "<svg xmlns=\"http://www.w3.org/2000/svg\" height=\"24px\"viewBox=\"0 0 24 24\"\n",
              "     width=\"24px\">\n",
              "    <g>\n",
              "        <path d=\"M19 3H5c-1.1 0-2 .9-2 2v14c0 1.1.9 2 2 2h14c1.1 0 2-.9 2-2V5c0-1.1-.9-2-2-2zM9 17H7v-7h2v7zm4 0h-2V7h2v10zm4 0h-2v-4h2v4z\"/>\n",
              "    </g>\n",
              "</svg>\n",
              "  </button>\n",
              "\n",
              "<style>\n",
              "  .colab-df-quickchart {\n",
              "      --bg-color: #E8F0FE;\n",
              "      --fill-color: #1967D2;\n",
              "      --hover-bg-color: #E2EBFA;\n",
              "      --hover-fill-color: #174EA6;\n",
              "      --disabled-fill-color: #AAA;\n",
              "      --disabled-bg-color: #DDD;\n",
              "  }\n",
              "\n",
              "  [theme=dark] .colab-df-quickchart {\n",
              "      --bg-color: #3B4455;\n",
              "      --fill-color: #D2E3FC;\n",
              "      --hover-bg-color: #434B5C;\n",
              "      --hover-fill-color: #FFFFFF;\n",
              "      --disabled-bg-color: #3B4455;\n",
              "      --disabled-fill-color: #666;\n",
              "  }\n",
              "\n",
              "  .colab-df-quickchart {\n",
              "    background-color: var(--bg-color);\n",
              "    border: none;\n",
              "    border-radius: 50%;\n",
              "    cursor: pointer;\n",
              "    display: none;\n",
              "    fill: var(--fill-color);\n",
              "    height: 32px;\n",
              "    padding: 0;\n",
              "    width: 32px;\n",
              "  }\n",
              "\n",
              "  .colab-df-quickchart:hover {\n",
              "    background-color: var(--hover-bg-color);\n",
              "    box-shadow: 0 1px 2px rgba(60, 64, 67, 0.3), 0 1px 3px 1px rgba(60, 64, 67, 0.15);\n",
              "    fill: var(--button-hover-fill-color);\n",
              "  }\n",
              "\n",
              "  .colab-df-quickchart-complete:disabled,\n",
              "  .colab-df-quickchart-complete:disabled:hover {\n",
              "    background-color: var(--disabled-bg-color);\n",
              "    fill: var(--disabled-fill-color);\n",
              "    box-shadow: none;\n",
              "  }\n",
              "\n",
              "  .colab-df-spinner {\n",
              "    border: 2px solid var(--fill-color);\n",
              "    border-color: transparent;\n",
              "    border-bottom-color: var(--fill-color);\n",
              "    animation:\n",
              "      spin 1s steps(1) infinite;\n",
              "  }\n",
              "\n",
              "  @keyframes spin {\n",
              "    0% {\n",
              "      border-color: transparent;\n",
              "      border-bottom-color: var(--fill-color);\n",
              "      border-left-color: var(--fill-color);\n",
              "    }\n",
              "    20% {\n",
              "      border-color: transparent;\n",
              "      border-left-color: var(--fill-color);\n",
              "      border-top-color: var(--fill-color);\n",
              "    }\n",
              "    30% {\n",
              "      border-color: transparent;\n",
              "      border-left-color: var(--fill-color);\n",
              "      border-top-color: var(--fill-color);\n",
              "      border-right-color: var(--fill-color);\n",
              "    }\n",
              "    40% {\n",
              "      border-color: transparent;\n",
              "      border-right-color: var(--fill-color);\n",
              "      border-top-color: var(--fill-color);\n",
              "    }\n",
              "    60% {\n",
              "      border-color: transparent;\n",
              "      border-right-color: var(--fill-color);\n",
              "    }\n",
              "    80% {\n",
              "      border-color: transparent;\n",
              "      border-right-color: var(--fill-color);\n",
              "      border-bottom-color: var(--fill-color);\n",
              "    }\n",
              "    90% {\n",
              "      border-color: transparent;\n",
              "      border-bottom-color: var(--fill-color);\n",
              "    }\n",
              "  }\n",
              "</style>\n",
              "\n",
              "  <script>\n",
              "    async function quickchart(key) {\n",
              "      const quickchartButtonEl =\n",
              "        document.querySelector('#' + key + ' button');\n",
              "      quickchartButtonEl.disabled = true;  // To prevent multiple clicks.\n",
              "      quickchartButtonEl.classList.add('colab-df-spinner');\n",
              "      try {\n",
              "        const charts = await google.colab.kernel.invokeFunction(\n",
              "            'suggestCharts', [key], {});\n",
              "      } catch (error) {\n",
              "        console.error('Error during call to suggestCharts:', error);\n",
              "      }\n",
              "      quickchartButtonEl.classList.remove('colab-df-spinner');\n",
              "      quickchartButtonEl.classList.add('colab-df-quickchart-complete');\n",
              "    }\n",
              "    (() => {\n",
              "      let quickchartButtonEl =\n",
              "        document.querySelector('#df-957c5226-0f4c-459f-a09d-3f465e8bb437 button');\n",
              "      quickchartButtonEl.style.display =\n",
              "        google.colab.kernel.accessAllowed ? 'block' : 'none';\n",
              "    })();\n",
              "  </script>\n",
              "</div>\n",
              "\n",
              "    </div>\n",
              "  </div>\n"
            ],
            "application/vnd.google.colaboratory.intrinsic+json": {
              "type": "dataframe",
              "variable_name": "data",
              "summary": "{\n  \"name\": \"data\",\n  \"rows\": 3796,\n  \"fields\": [\n    {\n      \"column\": \"ID\",\n      \"properties\": {\n        \"dtype\": \"number\",\n        \"std\": 1095,\n        \"min\": 10823,\n        \"max\": 14618,\n        \"num_unique_values\": 3796,\n        \"samples\": [\n          11121,\n          13901,\n          12184\n        ],\n        \"semantic_type\": \"\",\n        \"description\": \"\"\n      }\n    },\n    {\n      \"column\": \"json\",\n      \"properties\": {\n        \"dtype\": \"string\",\n        \"num_unique_values\": 3796,\n        \"samples\": [\n          \"\\\"patient_info\\\": \\\"age\\\": 46, \\\"gender\\\": \\\"Male\\\", \\\"visit_motivation\\\": \\\"Depression\\\", \\\"symptoms\\\": [\\\"fever\\\", \\\"nausea\\\", \\\"abdominal_pain\\\", \\\"dizzy\\\", \\\"sneezing\\\", \\\"itchy_eyes\\\", \\\"wheezing\\\", \\\"swollen_lymph_nodes\\\", \\\"pale_skin\\\", \\\"vital_signs\\\": \\\"oxygen_saturation\\\": \\\"value\\\": 99.9, \\\"unit\\\": \\\"%\\\", \\\"cholesterol_level\\\": \\\"value\\\": 149.7, \\\"unit\\\": \\\"mg/dL\\\", \\\"glucose_level\\\": \\\"value\\\": 100.1, \\\"unit\\\": \\\"mg/dL\\\"\",\n          \"\\\"patient_info\\\": \\\"age\\\": 44, \\\"gender\\\": \\\"Female\\\", \\\"visit_motivation\\\": \\\"COVID-19\\\", \\\"symptoms\\\": [\\\"fever\\\", \\\"cough\\\", \\\"fatigue\\\", \\\"headache\\\", \\\"difficulty_breathing\\\", \\\"vomiting\\\", \\\"runny_nose\\\", \\\"sneezing\\\", \\\"loss_of_taste_smell\\\", \\\"frequent_urination\\\", \\\"swollen_lymph_nodes\\\", \\\"ear_pain\\\", \\\"restlessness\\\"], \\\"vital_signs\\\": \\\"temperature\\\": \\\"value\\\": 39.1, \\\"unit\\\": \\\"u00b0C\\\", \\\"respiratory_rate\\\": \\\"value\\\": 17, \\\"unit\\\": \\\"breaths/min\\\", \\\"oxygen_saturation\\\": \\\"value\\\": 90.2, \\\"unit\\\": \\\"%\\\", \\\"cholesterol_level\\\": \\\"value\\\": 174.2, \\\"unit\\\": \\\"mg/dL\\\", \\\"glucose_level\\\": \\\"value\\\": 121.1, \\\"unit\\\": \\\"mg/dL\\\"\",\n          \"\\\"patient_info\\\": \\\"age\\\": 20, \\\"gender\\\": \\\"Female\\\", \\\"visit_motivation\\\": \\\"Sinusitis\\\", \\\"symptoms\\\": [\\\"fever\\\", \\\"headache\\\", \\\"nausea\\\", \\\"runny_nose\\\", \\\"loss_of_taste_smell\\\", \\\"frequent_urination\\\", \\\"facial_pain\\\", \\\"ear_pain\\\", \\\"sadness\\\", \\\"restlessness\\\"], \\\"vital_signs\\\": \\\"temperature\\\": \\\"value\\\": 37.1, \\\"unit\\\": \\\"u00b0C\\\", \\\"heart_rate\\\": \\\"value\\\": 71, \\\"unit\\\": \\\"bpm\\\", \\\"respiratory_rate\\\": \\\"value\\\": 15, \\\"unit\\\": \\\"breaths/min\\\", \\\"oxygen_saturation\\\": \\\"value\\\": 96.6, \\\"unit\\\": \\\"%\\\", \\\"cholesterol_level\\\": \\\"value\\\": 182.9, \\\"unit\\\": \\\"mg/dL\\\"\"\n        ],\n        \"semantic_type\": \"\",\n        \"description\": \"\"\n      }\n    }\n  ]\n}"
            }
          },
          "metadata": {},
          "execution_count": 98
        }
      ]
    },
    {
      "cell_type": "code",
      "source": [
        "# data.json.to_dict()"
      ],
      "metadata": {
        "id": "xeHhmJNLMgEz"
      },
      "execution_count": null,
      "outputs": []
    },
    {
      "cell_type": "code",
      "source": [
        "prompt=data.json.to_list()"
      ],
      "metadata": {
        "id": "GwpzTQWPKevh"
      },
      "execution_count": null,
      "outputs": []
    },
    {
      "cell_type": "code",
      "source": [
        "prompt1=prompt[:5]"
      ],
      "metadata": {
        "id": "gYpIB5pnKqXe"
      },
      "execution_count": null,
      "outputs": []
    },
    {
      "cell_type": "code",
      "source": [
        "# prompt1"
      ],
      "metadata": {
        "id": "wtWyafJ5igT6"
      },
      "execution_count": null,
      "outputs": []
    },
    {
      "cell_type": "code",
      "source": [
        "response = chat.send_message(f\"\"\"Prompt: \"{prompt1}\" \"\"\")"
      ],
      "metadata": {
        "id": "KjDCXf-Tvo1y"
      },
      "execution_count": null,
      "outputs": []
    },
    {
      "cell_type": "code",
      "source": [
        "# response.text"
      ],
      "metadata": {
        "id": "5BcMJa5w1WdH"
      },
      "execution_count": null,
      "outputs": []
    },
    {
      "cell_type": "code",
      "source": [
        "data['ID'][0]"
      ],
      "metadata": {
        "colab": {
          "base_uri": "https://localhost:8080/"
        },
        "id": "igzhAnvRXFx8",
        "outputId": "10bf70f4-3036-40dc-e79b-6be8d6e29283"
      },
      "execution_count": null,
      "outputs": [
        {
          "output_type": "execute_result",
          "data": {
            "text/plain": [
              "10823"
            ]
          },
          "metadata": {},
          "execution_count": 99
        }
      ]
    },
    {
      "cell_type": "code",
      "source": [
        "data_list = json.loads(response.text)\n",
        "\n",
        "results_df = pd.DataFrame({\n",
        "    \"ID\": range(1, len(data_list) + 1),\n",
        "    \"json\": [json.dumps(entry) for entry in data_list]\n",
        "})"
      ],
      "metadata": {
        "id": "BRcqWURn1aM1"
      },
      "execution_count": null,
      "outputs": []
    },
    {
      "cell_type": "code",
      "source": [
        "results_df.head(5)"
      ],
      "metadata": {
        "colab": {
          "base_uri": "https://localhost:8080/",
          "height": 206
        },
        "id": "KnIOgEGEQ9nX",
        "outputId": "8cb9ec06-4357-445c-c094-e5ed09c37fca"
      },
      "execution_count": null,
      "outputs": [
        {
          "output_type": "execute_result",
          "data": {
            "text/plain": [
              "   ID                                               json\n",
              "0   1  {\"patient_info\": {\"age\": 48, \"gender\": \"Male\"}...\n",
              "1   2  {\"patient_info\": {\"age\": 53, \"gender\": \"Male\"}...\n",
              "2   3  {\"patient_info\": {\"age\": 71, \"gender\": \"Male\"}...\n",
              "3   4  {\"patient_info\": {\"age\": 73, \"gender\": \"Male\"}...\n",
              "4   5  {\"patient_info\": {\"age\": 48, \"gender\": \"Female..."
            ],
            "text/html": [
              "\n",
              "  <div id=\"df-03107146-0f82-4781-a239-ef9fb58a7b0f\" class=\"colab-df-container\">\n",
              "    <div>\n",
              "<style scoped>\n",
              "    .dataframe tbody tr th:only-of-type {\n",
              "        vertical-align: middle;\n",
              "    }\n",
              "\n",
              "    .dataframe tbody tr th {\n",
              "        vertical-align: top;\n",
              "    }\n",
              "\n",
              "    .dataframe thead th {\n",
              "        text-align: right;\n",
              "    }\n",
              "</style>\n",
              "<table border=\"1\" class=\"dataframe\">\n",
              "  <thead>\n",
              "    <tr style=\"text-align: right;\">\n",
              "      <th></th>\n",
              "      <th>ID</th>\n",
              "      <th>json</th>\n",
              "    </tr>\n",
              "  </thead>\n",
              "  <tbody>\n",
              "    <tr>\n",
              "      <th>0</th>\n",
              "      <td>1</td>\n",
              "      <td>{\"patient_info\": {\"age\": 48, \"gender\": \"Male\"}...</td>\n",
              "    </tr>\n",
              "    <tr>\n",
              "      <th>1</th>\n",
              "      <td>2</td>\n",
              "      <td>{\"patient_info\": {\"age\": 53, \"gender\": \"Male\"}...</td>\n",
              "    </tr>\n",
              "    <tr>\n",
              "      <th>2</th>\n",
              "      <td>3</td>\n",
              "      <td>{\"patient_info\": {\"age\": 71, \"gender\": \"Male\"}...</td>\n",
              "    </tr>\n",
              "    <tr>\n",
              "      <th>3</th>\n",
              "      <td>4</td>\n",
              "      <td>{\"patient_info\": {\"age\": 73, \"gender\": \"Male\"}...</td>\n",
              "    </tr>\n",
              "    <tr>\n",
              "      <th>4</th>\n",
              "      <td>5</td>\n",
              "      <td>{\"patient_info\": {\"age\": 48, \"gender\": \"Female...</td>\n",
              "    </tr>\n",
              "  </tbody>\n",
              "</table>\n",
              "</div>\n",
              "    <div class=\"colab-df-buttons\">\n",
              "\n",
              "  <div class=\"colab-df-container\">\n",
              "    <button class=\"colab-df-convert\" onclick=\"convertToInteractive('df-03107146-0f82-4781-a239-ef9fb58a7b0f')\"\n",
              "            title=\"Convert this dataframe to an interactive table.\"\n",
              "            style=\"display:none;\">\n",
              "\n",
              "  <svg xmlns=\"http://www.w3.org/2000/svg\" height=\"24px\" viewBox=\"0 -960 960 960\">\n",
              "    <path d=\"M120-120v-720h720v720H120Zm60-500h600v-160H180v160Zm220 220h160v-160H400v160Zm0 220h160v-160H400v160ZM180-400h160v-160H180v160Zm440 0h160v-160H620v160ZM180-180h160v-160H180v160Zm440 0h160v-160H620v160Z\"/>\n",
              "  </svg>\n",
              "    </button>\n",
              "\n",
              "  <style>\n",
              "    .colab-df-container {\n",
              "      display:flex;\n",
              "      gap: 12px;\n",
              "    }\n",
              "\n",
              "    .colab-df-convert {\n",
              "      background-color: #E8F0FE;\n",
              "      border: none;\n",
              "      border-radius: 50%;\n",
              "      cursor: pointer;\n",
              "      display: none;\n",
              "      fill: #1967D2;\n",
              "      height: 32px;\n",
              "      padding: 0 0 0 0;\n",
              "      width: 32px;\n",
              "    }\n",
              "\n",
              "    .colab-df-convert:hover {\n",
              "      background-color: #E2EBFA;\n",
              "      box-shadow: 0px 1px 2px rgba(60, 64, 67, 0.3), 0px 1px 3px 1px rgba(60, 64, 67, 0.15);\n",
              "      fill: #174EA6;\n",
              "    }\n",
              "\n",
              "    .colab-df-buttons div {\n",
              "      margin-bottom: 4px;\n",
              "    }\n",
              "\n",
              "    [theme=dark] .colab-df-convert {\n",
              "      background-color: #3B4455;\n",
              "      fill: #D2E3FC;\n",
              "    }\n",
              "\n",
              "    [theme=dark] .colab-df-convert:hover {\n",
              "      background-color: #434B5C;\n",
              "      box-shadow: 0px 1px 3px 1px rgba(0, 0, 0, 0.15);\n",
              "      filter: drop-shadow(0px 1px 2px rgba(0, 0, 0, 0.3));\n",
              "      fill: #FFFFFF;\n",
              "    }\n",
              "  </style>\n",
              "\n",
              "    <script>\n",
              "      const buttonEl =\n",
              "        document.querySelector('#df-03107146-0f82-4781-a239-ef9fb58a7b0f button.colab-df-convert');\n",
              "      buttonEl.style.display =\n",
              "        google.colab.kernel.accessAllowed ? 'block' : 'none';\n",
              "\n",
              "      async function convertToInteractive(key) {\n",
              "        const element = document.querySelector('#df-03107146-0f82-4781-a239-ef9fb58a7b0f');\n",
              "        const dataTable =\n",
              "          await google.colab.kernel.invokeFunction('convertToInteractive',\n",
              "                                                    [key], {});\n",
              "        if (!dataTable) return;\n",
              "\n",
              "        const docLinkHtml = 'Like what you see? Visit the ' +\n",
              "          '<a target=\"_blank\" href=https://colab.research.google.com/notebooks/data_table.ipynb>data table notebook</a>'\n",
              "          + ' to learn more about interactive tables.';\n",
              "        element.innerHTML = '';\n",
              "        dataTable['output_type'] = 'display_data';\n",
              "        await google.colab.output.renderOutput(dataTable, element);\n",
              "        const docLink = document.createElement('div');\n",
              "        docLink.innerHTML = docLinkHtml;\n",
              "        element.appendChild(docLink);\n",
              "      }\n",
              "    </script>\n",
              "  </div>\n",
              "\n",
              "\n",
              "<div id=\"df-29bcea54-adf8-42f0-9655-dd74992b5039\">\n",
              "  <button class=\"colab-df-quickchart\" onclick=\"quickchart('df-29bcea54-adf8-42f0-9655-dd74992b5039')\"\n",
              "            title=\"Suggest charts\"\n",
              "            style=\"display:none;\">\n",
              "\n",
              "<svg xmlns=\"http://www.w3.org/2000/svg\" height=\"24px\"viewBox=\"0 0 24 24\"\n",
              "     width=\"24px\">\n",
              "    <g>\n",
              "        <path d=\"M19 3H5c-1.1 0-2 .9-2 2v14c0 1.1.9 2 2 2h14c1.1 0 2-.9 2-2V5c0-1.1-.9-2-2-2zM9 17H7v-7h2v7zm4 0h-2V7h2v10zm4 0h-2v-4h2v4z\"/>\n",
              "    </g>\n",
              "</svg>\n",
              "  </button>\n",
              "\n",
              "<style>\n",
              "  .colab-df-quickchart {\n",
              "      --bg-color: #E8F0FE;\n",
              "      --fill-color: #1967D2;\n",
              "      --hover-bg-color: #E2EBFA;\n",
              "      --hover-fill-color: #174EA6;\n",
              "      --disabled-fill-color: #AAA;\n",
              "      --disabled-bg-color: #DDD;\n",
              "  }\n",
              "\n",
              "  [theme=dark] .colab-df-quickchart {\n",
              "      --bg-color: #3B4455;\n",
              "      --fill-color: #D2E3FC;\n",
              "      --hover-bg-color: #434B5C;\n",
              "      --hover-fill-color: #FFFFFF;\n",
              "      --disabled-bg-color: #3B4455;\n",
              "      --disabled-fill-color: #666;\n",
              "  }\n",
              "\n",
              "  .colab-df-quickchart {\n",
              "    background-color: var(--bg-color);\n",
              "    border: none;\n",
              "    border-radius: 50%;\n",
              "    cursor: pointer;\n",
              "    display: none;\n",
              "    fill: var(--fill-color);\n",
              "    height: 32px;\n",
              "    padding: 0;\n",
              "    width: 32px;\n",
              "  }\n",
              "\n",
              "  .colab-df-quickchart:hover {\n",
              "    background-color: var(--hover-bg-color);\n",
              "    box-shadow: 0 1px 2px rgba(60, 64, 67, 0.3), 0 1px 3px 1px rgba(60, 64, 67, 0.15);\n",
              "    fill: var(--button-hover-fill-color);\n",
              "  }\n",
              "\n",
              "  .colab-df-quickchart-complete:disabled,\n",
              "  .colab-df-quickchart-complete:disabled:hover {\n",
              "    background-color: var(--disabled-bg-color);\n",
              "    fill: var(--disabled-fill-color);\n",
              "    box-shadow: none;\n",
              "  }\n",
              "\n",
              "  .colab-df-spinner {\n",
              "    border: 2px solid var(--fill-color);\n",
              "    border-color: transparent;\n",
              "    border-bottom-color: var(--fill-color);\n",
              "    animation:\n",
              "      spin 1s steps(1) infinite;\n",
              "  }\n",
              "\n",
              "  @keyframes spin {\n",
              "    0% {\n",
              "      border-color: transparent;\n",
              "      border-bottom-color: var(--fill-color);\n",
              "      border-left-color: var(--fill-color);\n",
              "    }\n",
              "    20% {\n",
              "      border-color: transparent;\n",
              "      border-left-color: var(--fill-color);\n",
              "      border-top-color: var(--fill-color);\n",
              "    }\n",
              "    30% {\n",
              "      border-color: transparent;\n",
              "      border-left-color: var(--fill-color);\n",
              "      border-top-color: var(--fill-color);\n",
              "      border-right-color: var(--fill-color);\n",
              "    }\n",
              "    40% {\n",
              "      border-color: transparent;\n",
              "      border-right-color: var(--fill-color);\n",
              "      border-top-color: var(--fill-color);\n",
              "    }\n",
              "    60% {\n",
              "      border-color: transparent;\n",
              "      border-right-color: var(--fill-color);\n",
              "    }\n",
              "    80% {\n",
              "      border-color: transparent;\n",
              "      border-right-color: var(--fill-color);\n",
              "      border-bottom-color: var(--fill-color);\n",
              "    }\n",
              "    90% {\n",
              "      border-color: transparent;\n",
              "      border-bottom-color: var(--fill-color);\n",
              "    }\n",
              "  }\n",
              "</style>\n",
              "\n",
              "  <script>\n",
              "    async function quickchart(key) {\n",
              "      const quickchartButtonEl =\n",
              "        document.querySelector('#' + key + ' button');\n",
              "      quickchartButtonEl.disabled = true;  // To prevent multiple clicks.\n",
              "      quickchartButtonEl.classList.add('colab-df-spinner');\n",
              "      try {\n",
              "        const charts = await google.colab.kernel.invokeFunction(\n",
              "            'suggestCharts', [key], {});\n",
              "      } catch (error) {\n",
              "        console.error('Error during call to suggestCharts:', error);\n",
              "      }\n",
              "      quickchartButtonEl.classList.remove('colab-df-spinner');\n",
              "      quickchartButtonEl.classList.add('colab-df-quickchart-complete');\n",
              "    }\n",
              "    (() => {\n",
              "      let quickchartButtonEl =\n",
              "        document.querySelector('#df-29bcea54-adf8-42f0-9655-dd74992b5039 button');\n",
              "      quickchartButtonEl.style.display =\n",
              "        google.colab.kernel.accessAllowed ? 'block' : 'none';\n",
              "    })();\n",
              "  </script>\n",
              "</div>\n",
              "\n",
              "    </div>\n",
              "  </div>\n"
            ],
            "application/vnd.google.colaboratory.intrinsic+json": {
              "type": "dataframe",
              "variable_name": "results_df",
              "summary": "{\n  \"name\": \"results_df\",\n  \"rows\": 5,\n  \"fields\": [\n    {\n      \"column\": \"ID\",\n      \"properties\": {\n        \"dtype\": \"number\",\n        \"std\": 1,\n        \"min\": 1,\n        \"max\": 5,\n        \"num_unique_values\": 5,\n        \"samples\": [\n          2,\n          5,\n          3\n        ],\n        \"semantic_type\": \"\",\n        \"description\": \"\"\n      }\n    },\n    {\n      \"column\": \"json\",\n      \"properties\": {\n        \"dtype\": \"string\",\n        \"num_unique_values\": 5,\n        \"samples\": [\n          \"{\\\"patient_info\\\": {\\\"age\\\": 53, \\\"gender\\\": \\\"Male\\\"}, \\\"visit_motivation\\\": \\\"Depression\\\", \\\"symptoms\\\": [\\\"fever\\\", \\\"headache\\\", \\\"chest_pain\\\", \\\"loss_of_taste_smell\\\", \\\"increased_thirst\\\", \\\"painful_urination\\\", \\\"painful_urination\\\", \\\"pale_skin\\\"], \\\"vital_signs\\\": {\\\"heart_rate\\\": {\\\"value\\\": 97, \\\"unit\\\": \\\"bpm\\\"}}}\",\n          \"{\\\"patient_info\\\": {\\\"age\\\": 48, \\\"gender\\\": \\\"Female\\\"}, \\\"visit_motivation\\\": \\\"Sinusitis\\\", \\\"symptoms\\\": [\\\"cough\\\", \\\"headache\\\", \\\"runny_nose\\\", \\\"rash\\\", \\\"sneezing\\\", \\\"blurred_vision\\\", \\\"swollen_lymph_nodes\\\", \\\"facial_pain\\\", \\\"sadness\\\"], \\\"vital_signs\\\": {\\\"blood_pressure\\\": {\\\"systolic\\\": {\\\"value\\\": 95, \\\"unit\\\": \\\"mmHg\\\"}, \\\"diastolic\\\": {\\\"value\\\": 75, \\\"unit\\\": \\\"mmHg\\\"}}, \\\"oxygen_saturation\\\": {\\\"value\\\": 95.3, \\\"unit\\\": \\\"%\\\"}, \\\"cholesterol_level\\\": {\\\"value\\\": 181.6, \\\"unit\\\": \\\"mg/dL\\\"}, \\\"glucose_level\\\": {\\\"value\\\": 181.6, \\\"unit\\\": \\\"mg/dL\\\"}}}\",\n          \"{\\\"patient_info\\\": {\\\"age\\\": 71, \\\"gender\\\": \\\"Male\\\"}, \\\"visit_motivation\\\": \\\"Influenza (Flu)\\\", \\\"symptoms\\\": [\\\"fever\\\", \\\"cough\\\", \\\"fatigue\\\", \\\"headache\\\", \\\"sore_throat\\\", \\\"runny_nose\\\", \\\"abdominal_pain\\\", \\\"joint_pain\\\", \\\"night_sweats\\\", \\\"weight_loss\\\", \\\"painful_urination\\\", \\\"sadness\\\", \\\"restlessness\\\"], \\\"vital_signs\\\": {\\\"blood_pressure\\\": {\\\"systolic\\\": {\\\"value\\\": 104, \\\"unit\\\": \\\"mmHg\\\"}, \\\"diastolic\\\": {\\\"value\\\": 67, \\\"unit\\\": \\\"mmHg\\\"}}, \\\"temperature\\\": {\\\"value\\\": 38.8, \\\"unit\\\": \\\"u00b0C\\\"}, \\\"heart_rate\\\": {\\\"value\\\": 107, \\\"unit\\\": \\\"bpm\\\"}, \\\"respiratory_rate\\\": {\\\"value\\\": 16, \\\"unit\\\": \\\"breaths/min\\\"}, \\\"oxygen_saturation\\\": {\\\"value\\\": 99.4, \\\"unit\\\": \\\"%\\\"}, \\\"cholesterol_level\\\": {\\\"value\\\": 189.6, \\\"unit\\\": \\\"mg/dL\\\"}, \\\"glucose_level\\\": {\\\"value\\\": 85.5, \\\"unit\\\": \\\"mg/dL\\\"}}}\"\n        ],\n        \"semantic_type\": \"\",\n        \"description\": \"\"\n      }\n    }\n  ]\n}"
            }
          },
          "metadata": {},
          "execution_count": 103
        }
      ]
    },
    {
      "cell_type": "code",
      "source": [
        "len(results_df)"
      ],
      "metadata": {
        "colab": {
          "base_uri": "https://localhost:8080/"
        },
        "id": "X1rYlx5vS7em",
        "outputId": "a6599394-4c91-4d97-981c-7d51aeb1a0b7"
      },
      "execution_count": null,
      "outputs": [
        {
          "output_type": "execute_result",
          "data": {
            "text/plain": [
              "5"
            ]
          },
          "metadata": {},
          "execution_count": 104
        }
      ]
    },
    {
      "cell_type": "code",
      "source": [],
      "metadata": {
        "id": "Ss5-MLTaZvak"
      },
      "execution_count": null,
      "outputs": []
    }
  ]
}